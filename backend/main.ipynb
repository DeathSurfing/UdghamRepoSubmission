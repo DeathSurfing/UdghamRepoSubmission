{
 "cells": [
  {
   "cell_type": "code",
   "execution_count": null,
   "metadata": {},
   "outputs": [],
   "source": [
    "import sys\n",
    "\n",
    "# Check if two arguments are provided\n",
    "if len(sys.argv) != 3:\n",
    "    print(\"Usage: python script.py <arg1> <arg2>\")\n",
    "    sys.exit(1)\n",
    "\n",
    "# Get arguments\n",
    "arg1 = sys.argv[1]\n",
    "arg2 = sys.argv[2]\n",
    "\n",
    "print(f\"Argument 1: {arg1}\")\n",
    "print(f\"Argument 2: {arg2}\")\n"
   ]
  }
 ],
 "metadata": {
  "kernelspec": {
   "display_name": "Python 3",
   "language": "python",
   "name": "python3"
  },
  "language_info": {
   "name": "python",
   "version": "3.12.3"
  }
 },
 "nbformat": 4,
 "nbformat_minor": 2
}
